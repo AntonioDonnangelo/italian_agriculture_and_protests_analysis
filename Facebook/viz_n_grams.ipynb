{
 "cells": [
  {
   "cell_type": "code",
   "execution_count": 1,
   "metadata": {},
   "outputs": [
    {
     "data": {
      "text/plain": [
       "DataTransformerRegistry.enable('default')"
      ]
     },
     "execution_count": 1,
     "metadata": {},
     "output_type": "execute_result"
    }
   ],
   "source": [
    "import pandas as pd\n",
    "import numpy as np\n",
    "import altair as alt\n",
    "alt.data_transformers.enable('default', max_rows=None)  #renders if the df has more than 5000 rows"
   ]
  },
  {
   "cell_type": "code",
   "execution_count": 15,
   "metadata": {},
   "outputs": [
    {
     "data": {
      "text/plain": [
       "ThemeRegistry.enable('my_theme')"
      ]
     },
     "execution_count": 15,
     "metadata": {},
     "output_type": "execute_result"
    }
   ],
   "source": [
    "def my_theme():\n",
    "    return {\n",
    "        \"config\": {\n",
    "            'background': 'transparent',\n",
    "            \"title\": {\n",
    "                #\"font\": \"Lato\",  # Sostituisci con il nome del font desiderato\n",
    "                \"fontSize\": 20,\n",
    "                \"anchor\": \"start\",  # posizione del titolo\n",
    "                \"color\": \"black\"\n",
    "            },\n",
    "            \"axis\": {\n",
    "                #\"labelFont\": \"Lato\",  # Sostituisci con il nome del font desiderato\n",
    "                #\"titleFont\": \"Lato\",  # Sostituisci con il nome del font desiderato\n",
    "                'labelFontSize': 16,  # Font size for axis labels\n",
    "                'titleFontSize': 14   # Font size for axis titles\n",
    "            }\n",
    "        }\n",
    "    }\n",
    "\n",
    "# Registra e imposta il tema\n",
    "alt.themes.register('my_theme', my_theme)\n",
    "alt.themes.enable('my_theme')"
   ]
  },
  {
   "cell_type": "code",
   "execution_count": 12,
   "metadata": {},
   "outputs": [],
   "source": [
    "viz_grams_dict = {\n",
    "    'non mollate': 3592,\n",
    "    'dio vi benedica': 2005,\n",
    "    'avanti tutta': 2182,\n",
    "    'forza ragazzi': 1887,\n",
    "    'tutti a roma': 536,\n",
    "    'prodotti italiani': 1089,\n",
    "    'agricoltori italiani': 1036,\n",
    "    'tutti uniti': 706,\n",
    "    'in piazza': 686,\n",
    "    'nostra terra': 489,\n",
    "    'sempre con voi': 760,\n",
    "    'w gli agricoltori': 477,\n",
    "    'forza e coraggio': 448,\n",
    "    'la nostra terra': 308,\n",
    "    'uniti si vince': 234,\n",
    "    \"l'unione fa la forza\": 195,\n",
    "    'io sto con gli agricoltori': 112\n",
    "}"
   ]
  },
  {
   "cell_type": "code",
   "execution_count": 13,
   "metadata": {},
   "outputs": [],
   "source": [
    "viz_grams_df = pd.DataFrame(list(viz_grams_dict.items()), columns=['ngram', 'frequency'])\n",
    "viz_grams_df = viz_grams_df.sort_values(by=\"frequency\", ascending=False)"
   ]
  },
  {
   "cell_type": "code",
   "execution_count": 20,
   "metadata": {},
   "outputs": [
    {
     "data": {
      "text/html": [
       "\n",
       "<style>\n",
       "  #altair-viz-fb6f6972ea6d430eabf1ab160e6afe7e.vega-embed {\n",
       "    width: 100%;\n",
       "    display: flex;\n",
       "  }\n",
       "\n",
       "  #altair-viz-fb6f6972ea6d430eabf1ab160e6afe7e.vega-embed details,\n",
       "  #altair-viz-fb6f6972ea6d430eabf1ab160e6afe7e.vega-embed details summary {\n",
       "    position: relative;\n",
       "  }\n",
       "</style>\n",
       "<div id=\"altair-viz-fb6f6972ea6d430eabf1ab160e6afe7e\"></div>\n",
       "<script type=\"text/javascript\">\n",
       "  var VEGA_DEBUG = (typeof VEGA_DEBUG == \"undefined\") ? {} : VEGA_DEBUG;\n",
       "  (function(spec, embedOpt){\n",
       "    let outputDiv = document.currentScript.previousElementSibling;\n",
       "    if (outputDiv.id !== \"altair-viz-fb6f6972ea6d430eabf1ab160e6afe7e\") {\n",
       "      outputDiv = document.getElementById(\"altair-viz-fb6f6972ea6d430eabf1ab160e6afe7e\");\n",
       "    }\n",
       "    const paths = {\n",
       "      \"vega\": \"https://cdn.jsdelivr.net/npm/vega@5?noext\",\n",
       "      \"vega-lib\": \"https://cdn.jsdelivr.net/npm/vega-lib?noext\",\n",
       "      \"vega-lite\": \"https://cdn.jsdelivr.net/npm/vega-lite@5.17.0?noext\",\n",
       "      \"vega-embed\": \"https://cdn.jsdelivr.net/npm/vega-embed@6?noext\",\n",
       "    };\n",
       "\n",
       "    function maybeLoadScript(lib, version) {\n",
       "      var key = `${lib.replace(\"-\", \"\")}_version`;\n",
       "      return (VEGA_DEBUG[key] == version) ?\n",
       "        Promise.resolve(paths[lib]) :\n",
       "        new Promise(function(resolve, reject) {\n",
       "          var s = document.createElement('script');\n",
       "          document.getElementsByTagName(\"head\")[0].appendChild(s);\n",
       "          s.async = true;\n",
       "          s.onload = () => {\n",
       "            VEGA_DEBUG[key] = version;\n",
       "            return resolve(paths[lib]);\n",
       "          };\n",
       "          s.onerror = () => reject(`Error loading script: ${paths[lib]}`);\n",
       "          s.src = paths[lib];\n",
       "        });\n",
       "    }\n",
       "\n",
       "    function showError(err) {\n",
       "      outputDiv.innerHTML = `<div class=\"error\" style=\"color:red;\">${err}</div>`;\n",
       "      throw err;\n",
       "    }\n",
       "\n",
       "    function displayChart(vegaEmbed) {\n",
       "      vegaEmbed(outputDiv, spec, embedOpt)\n",
       "        .catch(err => showError(`Javascript Error: ${err.message}<br>This usually means there's a typo in your chart specification. See the javascript console for the full traceback.`));\n",
       "    }\n",
       "\n",
       "    if(typeof define === \"function\" && define.amd) {\n",
       "      requirejs.config({paths});\n",
       "      require([\"vega-embed\"], displayChart, err => showError(`Error loading script: ${err.message}`));\n",
       "    } else {\n",
       "      maybeLoadScript(\"vega\", \"5\")\n",
       "        .then(() => maybeLoadScript(\"vega-lite\", \"5.17.0\"))\n",
       "        .then(() => maybeLoadScript(\"vega-embed\", \"6\"))\n",
       "        .catch(showError)\n",
       "        .then(() => displayChart(vegaEmbed));\n",
       "    }\n",
       "  })({\"config\": {\"background\": \"transparent\", \"title\": {\"fontSize\": 20, \"anchor\": \"start\", \"color\": \"black\"}, \"axis\": {\"labelFontSize\": 16, \"titleFontSize\": 14}}, \"data\": {\"name\": \"data-391fb10183b2e9c049308f9440543583\"}, \"mark\": {\"type\": \"bar\", \"color\": \"#18E169\"}, \"encoding\": {\"tooltip\": [{\"field\": \"frequency\", \"type\": \"quantitative\"}], \"x\": {\"field\": \"frequency\", \"title\": \"frequenza\", \"type\": \"quantitative\"}, \"y\": {\"field\": \"ngram\", \"sort\": \"-x\", \"title\": \"n-gramma\", \"type\": \"nominal\"}}, \"height\": 400, \"title\": \"Sequenze di parole frequenti\", \"width\": \"container\", \"$schema\": \"https://vega.github.io/schema/vega-lite/v5.17.0.json\", \"datasets\": {\"data-391fb10183b2e9c049308f9440543583\": [{\"ngram\": \"non mollate\", \"frequency\": 3592}, {\"ngram\": \"avanti tutta\", \"frequency\": 2182}, {\"ngram\": \"dio vi benedica\", \"frequency\": 2005}, {\"ngram\": \"forza ragazzi\", \"frequency\": 1887}, {\"ngram\": \"prodotti italiani\", \"frequency\": 1089}, {\"ngram\": \"agricoltori italiani\", \"frequency\": 1036}, {\"ngram\": \"sempre con voi\", \"frequency\": 760}, {\"ngram\": \"tutti uniti\", \"frequency\": 706}, {\"ngram\": \"in piazza\", \"frequency\": 686}, {\"ngram\": \"tutti a roma\", \"frequency\": 536}, {\"ngram\": \"nostra terra\", \"frequency\": 489}, {\"ngram\": \"w gli agricoltori\", \"frequency\": 477}, {\"ngram\": \"forza e coraggio\", \"frequency\": 448}, {\"ngram\": \"la nostra terra\", \"frequency\": 308}, {\"ngram\": \"uniti si vince\", \"frequency\": 234}, {\"ngram\": \"l'unione fa la forza\", \"frequency\": 195}, {\"ngram\": \"io sto con gli agricoltori\", \"frequency\": 112}]}}, {\"mode\": \"vega-lite\"});\n",
       "</script>"
      ],
      "text/plain": [
       "alt.Chart(...)"
      ]
     },
     "execution_count": 20,
     "metadata": {},
     "output_type": "execute_result"
    }
   ],
   "source": [
    "# Create a line plot\n",
    "bar_chart = alt.Chart(viz_grams_df).mark_bar(color=\"#18E169\").encode(\n",
    "    y=alt.Y('ngram', type=\"nominal\", title='n-gramma', sort=\"-x\"),\n",
    "    x=alt.X('frequency', type=\"quantitative\", title='frequenza'),\n",
    "    tooltip=['frequency:Q']\n",
    ").properties(\n",
    "    title='Sequenze di parole frequenti'\n",
    ")\n",
    "\n",
    "bar_chart.properties(width=\"container\", height=400)"
   ]
  },
  {
   "cell_type": "code",
   "execution_count": 21,
   "metadata": {},
   "outputs": [],
   "source": [
    "# Salva il grafico in un file JSON\n",
    "chart_json = bar_chart.to_json()\n",
    "with open(r'E:\\Gianluca\\Master Big Data Pisa\\Progetto_Finale\\Sito\\g6-2024-website\\assets\\charts\\charts_gian\\n_grammi_frequenti.json', 'w') as f:\n",
    "    f.write(chart_json)"
   ]
  }
 ],
 "metadata": {
  "kernelspec": {
   "display_name": "env_master",
   "language": "python",
   "name": "python3"
  },
  "language_info": {
   "codemirror_mode": {
    "name": "ipython",
    "version": 3
   },
   "file_extension": ".py",
   "mimetype": "text/x-python",
   "name": "python",
   "nbconvert_exporter": "python",
   "pygments_lexer": "ipython3",
   "version": "3.11.6"
  }
 },
 "nbformat": 4,
 "nbformat_minor": 2
}
