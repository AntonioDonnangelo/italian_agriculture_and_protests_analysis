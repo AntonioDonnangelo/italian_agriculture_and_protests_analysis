{
 "cells": [
  {
   "cell_type": "code",
   "execution_count": 1,
   "metadata": {},
   "outputs": [
    {
     "name": "stderr",
     "output_type": "stream",
     "text": [
      "c:\\Users\\giang\\anaconda3\\envs\\env_master\\Lib\\site-packages\\transformers\\utils\\generic.py:441: UserWarning: torch.utils._pytree._register_pytree_node is deprecated. Please use torch.utils._pytree.register_pytree_node instead.\n",
      "  _torch_pytree._register_pytree_node(\n"
     ]
    }
   ],
   "source": [
    "from feel_it import EmotionClassifier, SentimentClassifier\n",
    "import pandas as pd\n",
    "import numpy as np\n",
    "import csv\n",
    "import ast\n",
    "from unidecode import unidecode\n",
    "import re"
   ]
  },
  {
   "cell_type": "code",
   "execution_count": 2,
   "metadata": {},
   "outputs": [],
   "source": [
    "path = \"E:\\Gianluca\\Master Big Data Pisa\\Progetto_Finale\\Agricolo\\Facebook\\csv_docs_def\\comments4_no_spam_nan.csv\"\n",
    "comments_no_nan = pd.read_csv(path, parse_dates=[\"post_date\"], quotechar='\"', quoting=csv.QUOTE_ALL, encoding=\"utf-8\", low_memory=False)"
   ]
  },
  {
   "cell_type": "code",
   "execution_count": 3,
   "metadata": {},
   "outputs": [],
   "source": [
    "path = \"E:\\Gianluca\\Master Big Data Pisa\\Progetto_Finale\\Agricolo\\Facebook\\csv_docs_def\\posts4.csv\"\n",
    "posts = pd.read_csv(path, parse_dates=[\"post_date\"], quotechar='\"', quoting=csv.QUOTE_ALL, encoding=\"utf-8\", low_memory=False)"
   ]
  },
  {
   "cell_type": "code",
   "execution_count": 4,
   "metadata": {},
   "outputs": [],
   "source": [
    "def replace_dots(text):\n",
    "    # This pattern will match sequences of words separated by dots but not acronyms.\n",
    "    # Acronyms are sequences of single uppercase letters separated by dots and potentially followed by a dot.\n",
    "    #pattern = r'\\b(?:\\w+\\.\\w{2,}|\\w{2,}\\.\\w+)(?:\\.\\w+)*\\b'\n",
    "    pattern = r'\\b(?:[a-zA-Z]+\\.[a-zA-Z]{2,}|[a-zA-Z]{2,}\\.[a-zA-Z]+)(?:\\.[a-zA-Z]+)*\\b'\n",
    "    #pattern = r'\\b(?!\\d{1,2}\\.\\d{1,2}\\.\\d{2,4}\\b)(?=\\w*[^\\d]\\w*)(?:\\w{2,}\\.\\w+|\\w+\\.\\w{2,})(?:\\.\\w+)*\\b'\n",
    "\n",
    "    def replacement(match):\n",
    "        # Replace dots with spaces in the matched string\n",
    "        return match.group(0).replace('.', '. ')\n",
    "    \n",
    "    # Use re.sub to replace the matched pattern with the replacement function\n",
    "    return re.sub(pattern, replacement, text)\n",
    "\n",
    "def replace_commas(text):\n",
    "    # This pattern will match sequences of words separated by dots but not acronyms.\n",
    "    # Acronyms are sequences of single uppercase letters separated by dots and potentially followed by a dot.\n",
    "    #pattern = r'\\b(?:\\w+\\.\\w{2,}|\\w{2,}\\.\\w+)(?:\\.\\w+)*\\b'\n",
    "    pattern = r'\\b(?:[a-zA-Z]+,[a-zA-Z]{2,}|[a-zA-Z]{2,},[a-zA-Z]+)(?:,[a-zA-Z]+)*\\b'\n",
    "    #pattern = r'\\b(?!\\d{1,2}\\.\\d{1,2}\\.\\d{2,4}\\b)(?=\\w*[^\\d]\\w*)(?:\\w{2,}\\.\\w+|\\w+\\.\\w{2,})(?:\\.\\w+)*\\b'\n",
    "\n",
    "    def replacement(match):\n",
    "        # Replace dots with spaces in the matched string\n",
    "        return match.group(0).replace(',', ', ')\n",
    "    \n",
    "    # Use re.sub to replace the matched pattern with the replacement function\n",
    "    return re.sub(pattern, replacement, text)\n",
    "\n",
    "def clean_text(text):\n",
    "    # Rimuove gli articoli con apostrofi come \"l'\", \"all'\", ecc.\n",
    "    cleaned_text = re.sub(r\"^(l|all|d|nell|sull|coll|dall|dell|all|quell|quest)'\", '', text)\n",
    "    return cleaned_text\n",
    "\n",
    "def remove_leading_point(text):\n",
    "    # Define a pattern to match words starting with a point\n",
    "    #pattern = r'\\W\\.\\b(?=\\w+)'\n",
    "    pattern = r'(?:(?<=\\s)|(?<=^))\\.\\b(?=\\w+)'\n",
    "\n",
    "    # Use re.sub to remove the leading point from matched words\n",
    "    result = re.sub(pattern, '', text)\n",
    "\n",
    "    return result\n",
    "\n",
    "def remove_ending_point(text):\n",
    "    # Define a pattern to match words starting with a point\n",
    "    #pattern = r'\\W\\.\\b(?=\\w+)'\n",
    "    pattern = r'(?:\\b)\\.$'\n",
    "\n",
    "    # Use re.sub to remove the leading point from matched words\n",
    "    result = re.sub(pattern, '', text)\n",
    "\n",
    "    return result\n",
    "\n",
    "def remove_hyphen(text):\n",
    "    # Define a pattern to match words starting with a point\n",
    "    #pattern = r'\\W\\.\\b(?=\\w+)'\n",
    "    pattern = r'(?<=[a-zA-Z])-(?=[a-zA-Z])'\n",
    "\n",
    "    # Use re.sub to remove the leading point from matched words\n",
    "    result = re.sub(pattern, ' ', text)\n",
    "\n",
    "    return result\n",
    "\n",
    "def remove_link(text):   \n",
    "    \n",
    "    pattern = r'\\bhttps?\\S+|\\bcom/share\\S+|\\bstory_fbid=\\S+|\\bcom/story\\S+'\n",
    "    result = re.sub(pattern, '', text)\n",
    "\n",
    "    return result\n",
    "\n",
    "def transform_text(text):\n",
    "    text = str(text)\n",
    "    #text = str(text).lower()\n",
    "    text = unidecode(text)\n",
    "    text = replace_dots(text)\n",
    "    text = replace_commas(text)\n",
    "    text = remove_leading_point(text)\n",
    "    text = remove_hyphen(text)\n",
    "    text = remove_link(text)\n",
    "    return text"
   ]
  },
  {
   "cell_type": "code",
   "execution_count": 5,
   "metadata": {},
   "outputs": [],
   "source": [
    "def remove_receiver(row):\n",
    "    if row[\"level\"] > 0 and isinstance(row[\"content\"], str):\n",
    "        receiver_name_len = len(row[\"type\"].split()) - len(row[\"author\"].split()) - 7\n",
    "        if len(row[\"content\"].split()) >= receiver_name_len:\n",
    "            token_list = row[\"content\"].split()\n",
    "            del token_list[:receiver_name_len]\n",
    "            content_without_receiver = \" \".join(token_list)\n",
    "            row[\"content\"] = content_without_receiver\n",
    "    return row\n",
    "\n",
    "# Apply the function to each row\n",
    "comments_truncated = comments_no_nan.apply(remove_receiver, axis=1)\n",
    "comments_truncated = comments_truncated.set_index('index')"
   ]
  },
  {
   "cell_type": "code",
   "execution_count": 6,
   "metadata": {},
   "outputs": [
    {
     "data": {
      "text/html": [
       "<div>\n",
       "<style scoped>\n",
       "    .dataframe tbody tr th:only-of-type {\n",
       "        vertical-align: middle;\n",
       "    }\n",
       "\n",
       "    .dataframe tbody tr th {\n",
       "        vertical-align: top;\n",
       "    }\n",
       "\n",
       "    .dataframe thead th {\n",
       "        text-align: right;\n",
       "    }\n",
       "</style>\n",
       "<table border=\"1\" class=\"dataframe\">\n",
       "  <thead>\n",
       "    <tr style=\"text-align: right;\">\n",
       "      <th></th>\n",
       "      <th>comment_id</th>\n",
       "      <th>post_date</th>\n",
       "      <th>post_date_count</th>\n",
       "      <th>comment_date</th>\n",
       "      <th>author</th>\n",
       "      <th>content</th>\n",
       "      <th>likes</th>\n",
       "      <th>level</th>\n",
       "      <th>type</th>\n",
       "      <th>time_of_fetching</th>\n",
       "      <th>author_url</th>\n",
       "      <th>sex</th>\n",
       "    </tr>\n",
       "    <tr>\n",
       "      <th>index</th>\n",
       "      <th></th>\n",
       "      <th></th>\n",
       "      <th></th>\n",
       "      <th></th>\n",
       "      <th></th>\n",
       "      <th></th>\n",
       "      <th></th>\n",
       "      <th></th>\n",
       "      <th></th>\n",
       "      <th></th>\n",
       "      <th></th>\n",
       "      <th></th>\n",
       "    </tr>\n",
       "  </thead>\n",
       "  <tbody>\n",
       "    <tr>\n",
       "      <th>0</th>\n",
       "      <td>0</td>\n",
       "      <td>2024-04-20</td>\n",
       "      <td>1</td>\n",
       "      <td>2w</td>\n",
       "      <td>Leo Sileo</td>\n",
       "      <td>Il clima viene controllato con la tecnologia</td>\n",
       "      <td>7</td>\n",
       "      <td>0.0</td>\n",
       "      <td>Comment by Leo Sileo 2 weeks ago</td>\n",
       "      <td>2024-05-06 11:30:55.757595</td>\n",
       "      <td>NaN</td>\n",
       "      <td>0</td>\n",
       "    </tr>\n",
       "    <tr>\n",
       "      <th>1</th>\n",
       "      <td>1</td>\n",
       "      <td>2024-04-20</td>\n",
       "      <td>1</td>\n",
       "      <td>2w</td>\n",
       "      <td>Luigi Sposato</td>\n",
       "      <td>Yes  tutto una manipolazione del clima adesso ...</td>\n",
       "      <td>1</td>\n",
       "      <td>0.0</td>\n",
       "      <td>Comment by Luigi Sposato 2 weeks ago</td>\n",
       "      <td>2024-05-06 11:30:55.757595</td>\n",
       "      <td>NaN</td>\n",
       "      <td>0</td>\n",
       "    </tr>\n",
       "    <tr>\n",
       "      <th>2</th>\n",
       "      <td>2</td>\n",
       "      <td>2024-04-20</td>\n",
       "      <td>1</td>\n",
       "      <td>2w</td>\n",
       "      <td>Maccioni Bruno</td>\n",
       "      <td>Fresco? C'è il rischio che non rimanga nessun ...</td>\n",
       "      <td>21</td>\n",
       "      <td>0.0</td>\n",
       "      <td>Comment by Maccioni Bruno 2 weeks ago</td>\n",
       "      <td>2024-05-06 11:30:55.773181</td>\n",
       "      <td>NaN</td>\n",
       "      <td>0</td>\n",
       "    </tr>\n",
       "    <tr>\n",
       "      <th>3</th>\n",
       "      <td>3</td>\n",
       "      <td>2024-04-20</td>\n",
       "      <td>1</td>\n",
       "      <td>2w</td>\n",
       "      <td>Giuseppe Quattromini</td>\n",
       "      <td>colpa del riscaldamento globale</td>\n",
       "      <td>3</td>\n",
       "      <td>1.0</td>\n",
       "      <td>Reply by Giuseppe Quattromini to Maccioni Brun...</td>\n",
       "      <td>2024-05-06 11:30:55.773181</td>\n",
       "      <td>NaN</td>\n",
       "      <td>0</td>\n",
       "    </tr>\n",
       "    <tr>\n",
       "      <th>4</th>\n",
       "      <td>4</td>\n",
       "      <td>2024-04-20</td>\n",
       "      <td>1</td>\n",
       "      <td>2w</td>\n",
       "      <td>Maccioni Bruno</td>\n",
       "      <td>Questo io non sono in grado di stabilirlo, pos...</td>\n",
       "      <td>5</td>\n",
       "      <td>2.0</td>\n",
       "      <td>Reply by Maccioni Bruno to Giuseppe Quattromin...</td>\n",
       "      <td>2024-05-06 11:30:55.788802</td>\n",
       "      <td>NaN</td>\n",
       "      <td>0</td>\n",
       "    </tr>\n",
       "    <tr>\n",
       "      <th>...</th>\n",
       "      <td>...</td>\n",
       "      <td>...</td>\n",
       "      <td>...</td>\n",
       "      <td>...</td>\n",
       "      <td>...</td>\n",
       "      <td>...</td>\n",
       "      <td>...</td>\n",
       "      <td>...</td>\n",
       "      <td>...</td>\n",
       "      <td>...</td>\n",
       "      <td>...</td>\n",
       "      <td>...</td>\n",
       "    </tr>\n",
       "    <tr>\n",
       "      <th>162895</th>\n",
       "      <td>38</td>\n",
       "      <td>2023-11-01</td>\n",
       "      <td>2</td>\n",
       "      <td>26w</td>\n",
       "      <td>Luciana Parodi</td>\n",
       "      <td>Invece sei bellissima e genuina</td>\n",
       "      <td>0</td>\n",
       "      <td>0.0</td>\n",
       "      <td>Comment by Luciana Parodi 26 weeks ago</td>\n",
       "      <td>2024-05-06 03:49:16.000957</td>\n",
       "      <td>NaN</td>\n",
       "      <td>1</td>\n",
       "    </tr>\n",
       "    <tr>\n",
       "      <th>162896</th>\n",
       "      <td>39</td>\n",
       "      <td>2023-11-01</td>\n",
       "      <td>2</td>\n",
       "      <td>26w</td>\n",
       "      <td>Franco Scaccia</td>\n",
       "      <td>E fai bene</td>\n",
       "      <td>0</td>\n",
       "      <td>0.0</td>\n",
       "      <td>Comment by Franco Scaccia 26 weeks ago</td>\n",
       "      <td>2024-05-06 03:49:16.000957</td>\n",
       "      <td>NaN</td>\n",
       "      <td>0</td>\n",
       "    </tr>\n",
       "    <tr>\n",
       "      <th>162897</th>\n",
       "      <td>40</td>\n",
       "      <td>2023-11-01</td>\n",
       "      <td>2</td>\n",
       "      <td>25w</td>\n",
       "      <td>Carlo Iaconi</td>\n",
       "      <td>Complimenti sei fantastica devi essere fiera d...</td>\n",
       "      <td>0</td>\n",
       "      <td>0.0</td>\n",
       "      <td>Comment by Carlo Iaconi 25 weeks ago</td>\n",
       "      <td>2024-05-06 03:49:16.007462</td>\n",
       "      <td>NaN</td>\n",
       "      <td>0</td>\n",
       "    </tr>\n",
       "    <tr>\n",
       "      <th>162898</th>\n",
       "      <td>41</td>\n",
       "      <td>2023-11-01</td>\n",
       "      <td>2</td>\n",
       "      <td>26w</td>\n",
       "      <td>Zoglio Bartolomeo</td>\n",
       "      <td>Non sei bella, sei bellissima!</td>\n",
       "      <td>0</td>\n",
       "      <td>0.0</td>\n",
       "      <td>Comment by Zoglio Bartolomeo 26 weeks ago</td>\n",
       "      <td>2024-05-06 03:49:16.007462</td>\n",
       "      <td>NaN</td>\n",
       "      <td>0</td>\n",
       "    </tr>\n",
       "    <tr>\n",
       "      <th>162899</th>\n",
       "      <td>42</td>\n",
       "      <td>2023-11-01</td>\n",
       "      <td>2</td>\n",
       "      <td>25w</td>\n",
       "      <td>Andrè d'Angiò</td>\n",
       "      <td>Per me sei bella e le influncer non le sopport...</td>\n",
       "      <td>0</td>\n",
       "      <td>0.0</td>\n",
       "      <td>Comment by Andrè d'Angiò 25 weeks ago</td>\n",
       "      <td>2024-05-06 03:49:16.023088</td>\n",
       "      <td>NaN</td>\n",
       "      <td>0</td>\n",
       "    </tr>\n",
       "  </tbody>\n",
       "</table>\n",
       "<p>137081 rows × 12 columns</p>\n",
       "</div>"
      ],
      "text/plain": [
       "        comment_id  post_date  post_date_count comment_date  \\\n",
       "index                                                         \n",
       "0                0 2024-04-20                1           2w   \n",
       "1                1 2024-04-20                1           2w   \n",
       "2                2 2024-04-20                1           2w   \n",
       "3                3 2024-04-20                1           2w   \n",
       "4                4 2024-04-20                1           2w   \n",
       "...            ...        ...              ...          ...   \n",
       "162895          38 2023-11-01                2          26w   \n",
       "162896          39 2023-11-01                2          26w   \n",
       "162897          40 2023-11-01                2          25w   \n",
       "162898          41 2023-11-01                2          26w   \n",
       "162899          42 2023-11-01                2          25w   \n",
       "\n",
       "                      author  \\\n",
       "index                          \n",
       "0                  Leo Sileo   \n",
       "1              Luigi Sposato   \n",
       "2             Maccioni Bruno   \n",
       "3       Giuseppe Quattromini   \n",
       "4             Maccioni Bruno   \n",
       "...                      ...   \n",
       "162895        Luciana Parodi   \n",
       "162896        Franco Scaccia   \n",
       "162897          Carlo Iaconi   \n",
       "162898     Zoglio Bartolomeo   \n",
       "162899         Andrè d'Angiò   \n",
       "\n",
       "                                                  content likes  level  \\\n",
       "index                                                                    \n",
       "0            Il clima viene controllato con la tecnologia     7    0.0   \n",
       "1       Yes  tutto una manipolazione del clima adesso ...     1    0.0   \n",
       "2       Fresco? C'è il rischio che non rimanga nessun ...    21    0.0   \n",
       "3                         colpa del riscaldamento globale     3    1.0   \n",
       "4       Questo io non sono in grado di stabilirlo, pos...     5    2.0   \n",
       "...                                                   ...   ...    ...   \n",
       "162895                    Invece sei bellissima e genuina     0    0.0   \n",
       "162896                                         E fai bene     0    0.0   \n",
       "162897  Complimenti sei fantastica devi essere fiera d...     0    0.0   \n",
       "162898                     Non sei bella, sei bellissima!     0    0.0   \n",
       "162899  Per me sei bella e le influncer non le sopport...     0    0.0   \n",
       "\n",
       "                                                     type  \\\n",
       "index                                                       \n",
       "0                        Comment by Leo Sileo 2 weeks ago   \n",
       "1                    Comment by Luigi Sposato 2 weeks ago   \n",
       "2                   Comment by Maccioni Bruno 2 weeks ago   \n",
       "3       Reply by Giuseppe Quattromini to Maccioni Brun...   \n",
       "4       Reply by Maccioni Bruno to Giuseppe Quattromin...   \n",
       "...                                                   ...   \n",
       "162895             Comment by Luciana Parodi 26 weeks ago   \n",
       "162896             Comment by Franco Scaccia 26 weeks ago   \n",
       "162897               Comment by Carlo Iaconi 25 weeks ago   \n",
       "162898          Comment by Zoglio Bartolomeo 26 weeks ago   \n",
       "162899              Comment by Andrè d'Angiò 25 weeks ago   \n",
       "\n",
       "                  time_of_fetching author_url  sex  \n",
       "index                                               \n",
       "0       2024-05-06 11:30:55.757595        NaN    0  \n",
       "1       2024-05-06 11:30:55.757595        NaN    0  \n",
       "2       2024-05-06 11:30:55.773181        NaN    0  \n",
       "3       2024-05-06 11:30:55.773181        NaN    0  \n",
       "4       2024-05-06 11:30:55.788802        NaN    0  \n",
       "...                            ...        ...  ...  \n",
       "162895  2024-05-06 03:49:16.000957        NaN    1  \n",
       "162896  2024-05-06 03:49:16.000957        NaN    0  \n",
       "162897  2024-05-06 03:49:16.007462        NaN    0  \n",
       "162898  2024-05-06 03:49:16.007462        NaN    0  \n",
       "162899  2024-05-06 03:49:16.023088        NaN    0  \n",
       "\n",
       "[137081 rows x 12 columns]"
      ]
     },
     "execution_count": 6,
     "metadata": {},
     "output_type": "execute_result"
    }
   ],
   "source": [
    "comments_truncated"
   ]
  },
  {
   "cell_type": "markdown",
   "metadata": {},
   "source": [
    "input_file = \"data.csv\"\n",
    "output_file = \"data_modified.csv\"\n",
    "\n",
    "# Read the CSV file and store rows in a list\n",
    "with open(input_file, mode='r', encoding='utf-8', newline='') as infile:\n",
    "    reader = csv.DictReader(infile)\n",
    "    rows = list(reader)\n",
    "\n",
    "# Modify the 'age' column for each row\n",
    "for row in rows:\n",
    "    row['age'] = int(row['age']) + 1\n",
    "\n",
    "# Write the modified rows back to a new CSV file\n",
    "with open(output_file, mode='w', encoding='utf-8', newline='') as outfile:\n",
    "    fieldnames = rows[0].keys()\n",
    "    writer = csv.DictWriter(outfile, fieldnames=fieldnames)\n",
    "    \n",
    "    writer.writeheader()\n",
    "    writer.writerows(rows)"
   ]
  },
  {
   "cell_type": "code",
   "execution_count": 7,
   "metadata": {},
   "outputs": [],
   "source": [
    "'''def def_value(): \n",
    "    return 0\n",
    "\n",
    "entities_freq = defaultdict(def_value)\n",
    "entities_flag = {}\n",
    "entities_link_prob = set()'''\n",
    "count = 0\n",
    "input_file = \"E:/Gianluca/Master Big Data Pisa/Progetto_Finale/Agricolo/Facebook/csv_docs_def/comments_entities.csv\"\n",
    "input_file2 = \"E:/Gianluca/Master Big Data Pisa/Progetto_Finale/Agricolo/Facebook/csv_docs_def/posts4.csv\"\n",
    "post_information = []\n",
    "interesting_comments = []\n",
    "with open(input_file2, 'r', encoding='utf-8', newline='') as handle_r2:\n",
    "    with open(input_file, 'r', encoding='utf-8', newline='') as handle_r:\n",
    "        reader = csv.DictReader(handle_r)\n",
    "        for row in reader:\n",
    "            row_entities = ast.literal_eval(row[\"entities\"])\n",
    "            if len(row_entities) == 0:\n",
    "                continue\n",
    "            else:\n",
    "                for entity in row_entities:\n",
    "                    try:\n",
    "                        if entity[\"title\"] == \"Europa\" or entity[\"title\"] == \"Unione europea\":\n",
    "                            count = count + 1\n",
    "                            interesting_comments.append(transform_text(comments_truncated.iloc[int(row[\"index\"])][\"content\"]))\n",
    "                            date_and_count = list(comments_truncated.iloc[int(row[\"index\"])][\"post_date\", \"post_date_count\"])\n",
    "                            link = posts[posts[\"post_date\", \"post_date_count\"] == date_and_count][\"url\"]\n",
    "                            post_information.append(date_and_count.append(link))\n",
    "                            break\n",
    "                    except KeyError:\n",
    "                        pass\n",
    "    "
   ]
  },
  {
   "cell_type": "code",
   "execution_count": 8,
   "metadata": {},
   "outputs": [],
   "source": [
    "# interesting_comments"
   ]
  },
  {
   "cell_type": "code",
   "execution_count": 9,
   "metadata": {},
   "outputs": [
    {
     "data": {
      "text/plain": [
       "4782"
      ]
     },
     "execution_count": 9,
     "metadata": {},
     "output_type": "execute_result"
    }
   ],
   "source": [
    "len(interesting_comments)"
   ]
  },
  {
   "cell_type": "code",
   "execution_count": 10,
   "metadata": {},
   "outputs": [
    {
     "data": {
      "text/plain": [
       "4782"
      ]
     },
     "execution_count": 10,
     "metadata": {},
     "output_type": "execute_result"
    }
   ],
   "source": [
    "count"
   ]
  },
  {
   "cell_type": "code",
   "execution_count": 11,
   "metadata": {},
   "outputs": [
    {
     "name": "stderr",
     "output_type": "stream",
     "text": [
      "c:\\Users\\giang\\anaconda3\\envs\\env_master\\Lib\\site-packages\\transformers\\utils\\generic.py:309: UserWarning: torch.utils._pytree._register_pytree_node is deprecated. Please use torch.utils._pytree.register_pytree_node instead.\n",
      "  _torch_pytree._register_pytree_node(\n"
     ]
    }
   ],
   "source": [
    "emotion_classifier = EmotionClassifier()\n",
    "sentiment_classifier = SentimentClassifier()"
   ]
  },
  {
   "cell_type": "code",
   "execution_count": 12,
   "metadata": {},
   "outputs": [],
   "source": [
    "# europa_emotions = emotion_classifier.predict(interesting_comments)"
   ]
  },
  {
   "cell_type": "code",
   "execution_count": 13,
   "metadata": {},
   "outputs": [],
   "source": [
    "# np.save(r\"E:\\Gianluca\\Master Big Data Pisa\\Progetto_Finale\\Agricolo 2\\Group_6_2024_Project\\Facebook\\europa_emotions.npy\", np.array(europa_emotions))\n",
    "europa_emotions = np.load(r\"E:\\Gianluca\\Master Big Data Pisa\\Progetto_Finale\\Agricolo 2\\Group_6_2024_Project\\Facebook\\europa_emotions.npy\")"
   ]
  },
  {
   "cell_type": "code",
   "execution_count": 14,
   "metadata": {},
   "outputs": [
    {
     "data": {
      "text/plain": [
       "(array(['anger', 'fear', 'joy', 'sadness'], dtype='<U7'),\n",
       " array([4192,   68,  175,  347], dtype=int64))"
      ]
     },
     "execution_count": 14,
     "metadata": {},
     "output_type": "execute_result"
    }
   ],
   "source": [
    "np.unique(np.array(europa_emotions), return_counts=True)"
   ]
  },
  {
   "cell_type": "code",
   "execution_count": 15,
   "metadata": {},
   "outputs": [],
   "source": [
    "# europa_sentiments = sentiment_classifier.predict(interesting_comments)"
   ]
  },
  {
   "cell_type": "code",
   "execution_count": 16,
   "metadata": {},
   "outputs": [],
   "source": [
    "# np.save(r\"E:\\Gianluca\\Master Big Data Pisa\\Progetto_Finale\\Agricolo 2\\Group_6_2024_Project\\Facebook\\europa_sentiments.npy\", np.array(europa_sentiments))\n",
    "europa_sentiments = np.load(r\"E:\\Gianluca\\Master Big Data Pisa\\Progetto_Finale\\Agricolo 2\\Group_6_2024_Project\\Facebook\\europa_sentiments.npy\")"
   ]
  },
  {
   "cell_type": "code",
   "execution_count": 17,
   "metadata": {},
   "outputs": [
    {
     "data": {
      "text/plain": [
       "(array(['negative', 'positive'], dtype='<U8'),\n",
       " array([4585,  197], dtype=int64))"
      ]
     },
     "execution_count": 17,
     "metadata": {},
     "output_type": "execute_result"
    }
   ],
   "source": [
    "np.unique(np.array(europa_sentiments), return_counts=True)"
   ]
  }
 ],
 "metadata": {
  "kernelspec": {
   "display_name": "env_master",
   "language": "python",
   "name": "python3"
  },
  "language_info": {
   "codemirror_mode": {
    "name": "ipython",
    "version": 3
   },
   "file_extension": ".py",
   "mimetype": "text/x-python",
   "name": "python",
   "nbconvert_exporter": "python",
   "pygments_lexer": "ipython3",
   "version": "3.11.6"
  }
 },
 "nbformat": 4,
 "nbformat_minor": 2
}
