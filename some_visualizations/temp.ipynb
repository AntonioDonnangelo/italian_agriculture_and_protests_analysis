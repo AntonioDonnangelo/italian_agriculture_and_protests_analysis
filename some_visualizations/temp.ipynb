{
 "cells": [
  {
   "cell_type": "code",
   "execution_count": 2,
   "metadata": {},
   "outputs": [
    {
     "data": {
      "text/plain": [
       "DataTransformerRegistry.enable('default')"
      ]
     },
     "execution_count": 2,
     "metadata": {},
     "output_type": "execute_result"
    }
   ],
   "source": [
    "import numpy as np\n",
    "import pandas as pd\n",
    "import altair as alt\n",
    "import ipywidgets as widgets\n",
    "import json\n",
    "alt.data_transformers.enable('default', max_rows=None)  #renders if the df has more than 5000 rows"
   ]
  },
  {
   "cell_type": "code",
   "execution_count": 3,
   "metadata": {},
   "outputs": [
    {
     "data": {
      "text/html": [
       "\n",
       "<style>\n",
       "  #altair-viz-09bcab169bde4d3b9d350a03c52805a8.vega-embed {\n",
       "    width: 100%;\n",
       "    display: flex;\n",
       "  }\n",
       "\n",
       "  #altair-viz-09bcab169bde4d3b9d350a03c52805a8.vega-embed details,\n",
       "  #altair-viz-09bcab169bde4d3b9d350a03c52805a8.vega-embed details summary {\n",
       "    position: relative;\n",
       "  }\n",
       "</style>\n",
       "<div id=\"altair-viz-09bcab169bde4d3b9d350a03c52805a8\"></div>\n",
       "<script type=\"text/javascript\">\n",
       "  var VEGA_DEBUG = (typeof VEGA_DEBUG == \"undefined\") ? {} : VEGA_DEBUG;\n",
       "  (function(spec, embedOpt){\n",
       "    let outputDiv = document.currentScript.previousElementSibling;\n",
       "    if (outputDiv.id !== \"altair-viz-09bcab169bde4d3b9d350a03c52805a8\") {\n",
       "      outputDiv = document.getElementById(\"altair-viz-09bcab169bde4d3b9d350a03c52805a8\");\n",
       "    }\n",
       "    const paths = {\n",
       "      \"vega\": \"https://cdn.jsdelivr.net/npm/vega@5?noext\",\n",
       "      \"vega-lib\": \"https://cdn.jsdelivr.net/npm/vega-lib?noext\",\n",
       "      \"vega-lite\": \"https://cdn.jsdelivr.net/npm/vega-lite@5.17.0?noext\",\n",
       "      \"vega-embed\": \"https://cdn.jsdelivr.net/npm/vega-embed@6?noext\",\n",
       "    };\n",
       "\n",
       "    function maybeLoadScript(lib, version) {\n",
       "      var key = `${lib.replace(\"-\", \"\")}_version`;\n",
       "      return (VEGA_DEBUG[key] == version) ?\n",
       "        Promise.resolve(paths[lib]) :\n",
       "        new Promise(function(resolve, reject) {\n",
       "          var s = document.createElement('script');\n",
       "          document.getElementsByTagName(\"head\")[0].appendChild(s);\n",
       "          s.async = true;\n",
       "          s.onload = () => {\n",
       "            VEGA_DEBUG[key] = version;\n",
       "            return resolve(paths[lib]);\n",
       "          };\n",
       "          s.onerror = () => reject(`Error loading script: ${paths[lib]}`);\n",
       "          s.src = paths[lib];\n",
       "        });\n",
       "    }\n",
       "\n",
       "    function showError(err) {\n",
       "      outputDiv.innerHTML = `<div class=\"error\" style=\"color:red;\">${err}</div>`;\n",
       "      throw err;\n",
       "    }\n",
       "\n",
       "    function displayChart(vegaEmbed) {\n",
       "      vegaEmbed(outputDiv, spec, embedOpt)\n",
       "        .catch(err => showError(`Javascript Error: ${err.message}<br>This usually means there's a typo in your chart specification. See the javascript console for the full traceback.`));\n",
       "    }\n",
       "\n",
       "    if(typeof define === \"function\" && define.amd) {\n",
       "      requirejs.config({paths});\n",
       "      require([\"vega-embed\"], displayChart, err => showError(`Error loading script: ${err.message}`));\n",
       "    } else {\n",
       "      maybeLoadScript(\"vega\", \"5\")\n",
       "        .then(() => maybeLoadScript(\"vega-lite\", \"5.17.0\"))\n",
       "        .then(() => maybeLoadScript(\"vega-embed\", \"6\"))\n",
       "        .catch(showError)\n",
       "        .then(() => displayChart(vegaEmbed));\n",
       "    }\n",
       "  })({\"config\": {\"view\": {\"continuousWidth\": 300, \"continuousHeight\": 300}}, \"data\": {\"name\": \"data-53b6b9825049b1de7a3c61778ec3b2ab\"}, \"mark\": {\"type\": \"bar\"}, \"encoding\": {\"color\": {\"field\": \"Farm Type\", \"scale\": {\"domain\": [\"Family >= 50%\", \"Family only\", \"Non-family\"], \"range\": [\"#18E169\", \"#188FE1\", \"#18E1CE\"]}, \"type\": \"nominal\"}, \"tooltip\": [{\"field\": \"Country\", \"type\": \"nominal\"}, {\"field\": \"Farm Type\", \"type\": \"nominal\"}, {\"field\": \"Amount\", \"format\": \",\", \"type\": \"quantitative\"}], \"x\": {\"field\": \"Amount\", \"type\": \"quantitative\"}, \"y\": {\"field\": \"Country\", \"sort\": null, \"type\": \"nominal\"}}, \"height\": 400, \"title\": \"Tipologie di realt\\u00e0 agricole in Europa\", \"width\": \"container\", \"$schema\": \"https://vega.github.io/schema/vega-lite/v5.17.0.json\", \"datasets\": {\"data-53b6b9825049b1de7a3c61778ec3b2ab\": [{\"Country\": \"Romania\", \"Farm Type\": \"Family only\", \"Amount\": 1967777}, {\"Country\": \"Poland\", \"Farm Type\": \"Family only\", \"Amount\": 815995}, {\"Country\": \"Italy\", \"Farm Type\": \"Family only\", \"Amount\": 713735}, {\"Country\": \"Greece\", \"Farm Type\": \"Family only\", \"Amount\": 178213}, {\"Country\": \"France\", \"Farm Type\": \"Family only\", \"Amount\": 71084}, {\"Country\": \"Portugal\", \"Farm Type\": \"Family only\", \"Amount\": 104508}, {\"Country\": \"Germany\", \"Farm Type\": \"Family only\", \"Amount\": 74500}, {\"Country\": \"Hungary\", \"Farm Type\": \"Family only\", \"Amount\": 207261}, {\"Country\": \"Croatia\", \"Farm Type\": \"Family only\", \"Amount\": 89600}, {\"Country\": \"Bulgaria\", \"Farm Type\": \"Family only\", \"Amount\": 75199}, {\"Country\": \"Ireland\", \"Farm Type\": \"Family only\", \"Amount\": 9930}, {\"Country\": \"Austria\", \"Farm Type\": \"Family only\", \"Amount\": 56055}, {\"Country\": \"Latvia\", \"Farm Type\": \"Family only\", \"Amount\": 37645}, {\"Country\": \"Sweden\", \"Farm Type\": \"Family only\", \"Amount\": 44750}, {\"Country\": \"Netherlands\", \"Farm Type\": \"Family only\", \"Amount\": 10407}, {\"Country\": \"Finland\", \"Farm Type\": \"Family only\", \"Amount\": 16949}, {\"Country\": \"Denmark\", \"Farm Type\": \"Family only\", \"Amount\": 9317}, {\"Country\": \"Belgium\", \"Farm Type\": \"Family only\", \"Amount\": 9334}, {\"Country\": \"Cyprus\", \"Farm Type\": \"Family only\", \"Amount\": 16890}, {\"Country\": \"Czechia\", \"Farm Type\": \"Family only\", \"Amount\": 21859}, {\"Country\": \"Slovakia\", \"Farm Type\": \"Family only\", \"Amount\": 11054}, {\"Country\": \"Estonia\", \"Farm Type\": \"Family only\", \"Amount\": 6755}, {\"Country\": \"Malta\", \"Farm Type\": \"Family only\", \"Amount\": 3468}, {\"Country\": \"Luxembourg\", \"Farm Type\": \"Family only\", \"Amount\": 927}, {\"Country\": \"Romania\", \"Farm Type\": \"Family >= 50%\", \"Amount\": 893704}, {\"Country\": \"Poland\", \"Farm Type\": \"Family >= 50%\", \"Amount\": 471075}, {\"Country\": \"Italy\", \"Farm Type\": \"Family >= 50%\", \"Amount\": 380344}, {\"Country\": \"Greece\", \"Farm Type\": \"Family >= 50%\", \"Amount\": 348123}, {\"Country\": \"France\", \"Farm Type\": \"Family >= 50%\", \"Amount\": 155144}, {\"Country\": \"Portugal\", \"Farm Type\": \"Family >= 50%\", \"Amount\": 165789}, {\"Country\": \"Germany\", \"Farm Type\": \"Family >= 50%\", \"Amount\": 144818}, {\"Country\": \"Hungary\", \"Farm Type\": \"Family >= 50%\", \"Amount\": 12824}, {\"Country\": \"Croatia\", \"Farm Type\": \"Family >= 50%\", \"Amount\": 49599}, {\"Country\": \"Bulgaria\", \"Farm Type\": \"Family >= 50%\", \"Amount\": 45922}, {\"Country\": \"Ireland\", \"Farm Type\": \"Family >= 50%\", \"Amount\": 106461}, {\"Country\": \"Austria\", \"Farm Type\": \"Family >= 50%\", \"Amount\": 49216}, {\"Country\": \"Latvia\", \"Farm Type\": \"Family >= 50%\", \"Amount\": 28606}, {\"Country\": \"Sweden\", \"Farm Type\": \"Family >= 50%\", \"Amount\": 6945}, {\"Country\": \"Netherlands\", \"Farm Type\": \"Family >= 50%\", \"Amount\": 36628}, {\"Country\": \"Finland\", \"Farm Type\": \"Family >= 50%\", \"Amount\": 21841}, {\"Country\": \"Denmark\", \"Farm Type\": \"Family >= 50%\", \"Amount\": 23179}, {\"Country\": \"Belgium\", \"Farm Type\": \"Family >= 50%\", \"Amount\": 20095}, {\"Country\": \"Cyprus\", \"Farm Type\": \"Family >= 50%\", \"Amount\": 15967}, {\"Country\": \"Czechia\", \"Farm Type\": \"Family >= 50%\", \"Amount\": 2301}, {\"Country\": \"Slovakia\", \"Farm Type\": \"Family >= 50%\", \"Amount\": 4840}, {\"Country\": \"Estonia\", \"Farm Type\": \"Family >= 50%\", \"Amount\": 657}, {\"Country\": \"Malta\", \"Farm Type\": \"Family >= 50%\", \"Amount\": 4022}, {\"Country\": \"Luxembourg\", \"Farm Type\": \"Family >= 50%\", \"Amount\": 820}, {\"Country\": \"Romania\", \"Farm Type\": \"Non-family\", \"Amount\": 25586}, {\"Country\": \"Poland\", \"Farm Type\": \"Non-family\", \"Amount\": 14419}, {\"Country\": \"Italy\", \"Farm Type\": \"Non-family\", \"Amount\": 36449}, {\"Country\": \"Greece\", \"Farm Type\": \"Non-family\", \"Amount\": 4343}, {\"Country\": \"France\", \"Farm Type\": \"Non-family\", \"Amount\": 166797}, {\"Country\": \"Portugal\", \"Farm Type\": \"Non-family\", \"Amount\": 19932}, {\"Country\": \"Germany\", \"Farm Type\": \"Non-family\", \"Amount\": 43917}, {\"Country\": \"Hungary\", \"Farm Type\": \"Non-family\", \"Amount\": 12003}, {\"Country\": \"Croatia\", \"Farm Type\": \"Non-family\", \"Amount\": 4720}, {\"Country\": \"Bulgaria\", \"Farm Type\": \"Non-family\", \"Amount\": 11621}, {\"Country\": \"Ireland\", \"Farm Type\": \"Non-family\", \"Amount\": 13824}, {\"Country\": \"Austria\", \"Farm Type\": \"Non-family\", \"Amount\": 5510}, {\"Country\": \"Latvia\", \"Farm Type\": \"Non-family\", \"Amount\": 2732}, {\"Country\": \"Sweden\", \"Farm Type\": \"Non-family\", \"Amount\": 7095}, {\"Country\": \"Netherlands\", \"Farm Type\": \"Non-family\", \"Amount\": 5606}, {\"Country\": \"Finland\", \"Farm Type\": \"Non-family\", \"Amount\": 6840}, {\"Country\": \"Denmark\", \"Farm Type\": \"Non-family\", \"Amount\": 4592}, {\"Country\": \"Belgium\", \"Farm Type\": \"Non-family\", \"Amount\": 6567}, {\"Country\": \"Cyprus\", \"Farm Type\": \"Non-family\", \"Amount\": 1189}, {\"Country\": \"Czechia\", \"Farm Type\": \"Non-family\", \"Amount\": 4749}, {\"Country\": \"Slovakia\", \"Farm Type\": \"Non-family\", \"Amount\": 3738}, {\"Country\": \"Estonia\", \"Farm Type\": \"Non-family\", \"Amount\": 3957}, {\"Country\": \"Malta\", \"Farm Type\": \"Non-family\", \"Amount\": 160}, {\"Country\": \"Luxembourg\", \"Farm Type\": \"Non-family\", \"Amount\": 134}]}}, {\"mode\": \"vega-lite\"});\n",
       "</script>"
      ],
      "text/plain": [
       "alt.Chart(...)"
      ]
     },
     "metadata": {},
     "output_type": "display_data"
    }
   ],
   "source": [
    "## GRAFO SULLA TIPOLOGIA DI DIMENSIONE AGRICOLA IN EUROPA (FAMILIARE, NON FAMILIARE, FAMILIARE PER OLTRE LA METà)\n",
    "\n",
    "data_distribution_farming = {\n",
    "    'Country': ['Romania', 'Poland', 'Italy', 'Greece', 'France', 'Portugal', 'Germany',\n",
    "                'Hungary', 'Croatia', 'Bulgaria', 'Ireland', 'Austria', 'Latvia', 'Sweden',\n",
    "                'Netherlands', 'Finland', 'Denmark', 'Belgium', 'Cyprus', 'Czechia',\n",
    "                'Slovakia', 'Estonia', 'Malta', 'Luxembourg'],\n",
    "    'Family only': [1967777, 815995, 713735, 178213, 71084, 104508, 74500, 207261,\n",
    "                    89600, 75199, 9930, 56055, 37645, 44750, 10407, 16949,\n",
    "                    9317, 9334, 16890, 21859, 11054, 6755, 3468, 927],\n",
    "    'Family >= 50%': [893704, 471075, 380344, 348123, 155144, 165789, 144818, 12824,\n",
    "                      49599, 45922, 106461, 49216, 28606, 6945, 36628, 21841,\n",
    "                      23179, 20095, 15967, 2301, 4840, 657, 4022, 820],\n",
    "    'Non-family': [25586, 14419, 36449, 4343, 166797, 19932, 43917, 12003,\n",
    "                   4720, 11621, 13824, 5510, 2732, 7095, 5606, 6840,\n",
    "                   4592, 6567, 1189, 4749, 3738, 3957, 160, 134]\n",
    "}\n",
    "\n",
    "df_distribution_farming = pd.DataFrame(data_distribution_farming)\n",
    "\n",
    "df_m_distribution_farming = df_distribution_farming.melt(id_vars=['Country'], var_name='Farm Type', value_name='Amount')\n",
    "\n",
    "# Define custom color mapping\n",
    "color_scale = alt.Scale(\n",
    "    #domain=['Family >= 50%', 'Family only', 'Non-family'],\n",
    "    domain=['Family >= 50%', 'Family only', 'Non-family'],\n",
    "    range=['#18E169', '#188FE1', '#18E1CE']\n",
    ")\n",
    "\n",
    "chart = alt.Chart(df_m_distribution_farming).mark_bar().encode(\n",
    "    #x=alt.X('Country', sort=None),\n",
    "    x='Amount',    \n",
    "    #y='Amount',\n",
    "    y=alt.Y('Country', sort=None),\n",
    "    color=alt.Color('Farm Type:N', scale=color_scale),\n",
    "    tooltip=[alt.Tooltip('Country:N'), alt.Tooltip('Farm Type:N'), alt.Tooltip('Amount:Q', format=',')]\n",
    ").properties(\n",
    "    width=\"container\",\n",
    "    height=400,\n",
    "    title='Tipologie di realtà agricole in Europa'\n",
    ")\n",
    "'''.configure_axis(\n",
    "    labelAngle=45,\n",
    "    labelFontSize=12\n",
    ")'''\n",
    "\n",
    "chart.show()\n"
   ]
  }
 ],
 "metadata": {
  "kernelspec": {
   "display_name": "env_master",
   "language": "python",
   "name": "python3"
  },
  "language_info": {
   "codemirror_mode": {
    "name": "ipython",
    "version": 3
   },
   "file_extension": ".py",
   "mimetype": "text/x-python",
   "name": "python",
   "nbconvert_exporter": "python",
   "pygments_lexer": "ipython3",
   "version": "3.11.6"
  }
 },
 "nbformat": 4,
 "nbformat_minor": 2
}
