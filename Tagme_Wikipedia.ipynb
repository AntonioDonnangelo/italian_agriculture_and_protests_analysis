{
 "cells": [
  {
   "cell_type": "code",
   "execution_count": 4,
   "id": "84118d8f-0af7-4fb1-aa45-38a94cc5bb81",
   "metadata": {},
   "outputs": [],
   "source": [
    "import requests # For REST calls\n",
    "import json # for modelling objects in the JSON format"
   ]
  },
  {
   "cell_type": "code",
   "execution_count": 7,
   "id": "c665089f-7b62-433d-9f62-8eca321ecb77",
   "metadata": {},
   "outputs": [],
   "source": [
    "# This line opens the file from the file system, the file is in the same folder of the notebook and it is opened in \"read-only mode\"\n",
    "with open(\"config.json\", 'r') as json_file:\n",
    "    config = json.load(json_file) # load the json object inside the config file\n",
    "    KEY = config['d4science_KEY'] # this is the key we will be using for REST calls"
   ]
  },
  {
   "cell_type": "code",
   "execution_count": 8,
   "id": "2a25dfb4-f9ef-416a-8faf-8dd1e6dfe4aa",
   "metadata": {},
   "outputs": [],
   "source": [
    "TAGME_ENDPOINT = \"https://tagme.d4science.org/tagme/tag\"\n",
    "LANG = \"en\" # Also works in italian and german"
   ]
  },
  {
   "cell_type": "code",
   "execution_count": 9,
   "id": "9917a284-0374-402c-b465-bd2e079021f5",
   "metadata": {},
   "outputs": [],
   "source": [
    "# The URL where the relatedness is given\n",
    "ENDPOINT_RELATEDNESS = \"https://tagme.d4science.org/tagme/rel\"\n",
    "\n",
    "# In case I need efficiency I can do batch queries of 100 couples per HTTP call\n",
    "def query_relatedness(e1, e2):\n",
    "    # Entities require underscores in-place of the spaces. The space is between entity one and entity two\n",
    "    tt = e1.replace(\" \", \"_\") + \" \" + e2.replace(\" \", \"_\")\n",
    "    payload = {\"tt\": tt, \"gcube-token\": KEY, \"lang\": LANG}\n",
    "    r = requests.post(ENDPOINT_RELATEDNESS, payload)\n",
    "    if r.status_code != 200:\n",
    "        raise Exception(\"Error on relatedness computation: {}\\n{}\".format(tt, r.text))\n",
    "    return r.json()"
   ]
  },
  {
   "cell_type": "code",
   "execution_count": 18,
   "id": "9a72e9e3-5a83-4aee-b2d3-92e702096651",
   "metadata": {},
   "outputs": [
    {
     "name": "stdout",
     "output_type": "stream",
     "text": [
      "[{'couple': 'Roberta_Metsola SAU', 'err': 'Unable to parse second title'}]\n",
      "[{'couple': 'Roberta_Metsola Malta', 'rel': 0.4323458671569824}]\n"
     ]
    }
   ],
   "source": [
    "first = query_relatedness(\"Roberta Metsola\", \"SAU\")\n",
    "second = query_relatedness(\"Roberta Metsola\", \"Malta\")\n",
    "print(first['result'])\n",
    "print(second['result'])"
   ]
  },
  {
   "cell_type": "code",
   "execution_count": 19,
   "id": "c78b8ee9-3fe9-4fff-952b-7ea56704ce0e",
   "metadata": {},
   "outputs": [
    {
     "name": "stderr",
     "output_type": "stream",
     "text": [
      "C:\\Users\\RConti\\.conda\\envs\\env_master\\Lib\\site-packages\\joblib\\numpy_pickle.py:230: UserWarning: The memmapped array [[-0.12560804 -0.5235532  -0.13231167 ... -0.48633438  0.45111445\n",
      "   0.11309847]\n",
      " [-0.12473089 -0.6455471   0.13622157 ... -0.6347396   0.5410465\n",
      "   0.32159257]\n",
      " [-0.05129661 -0.4987064  -0.09563554 ... -0.30148467  0.24280211\n",
      "  -0.08308805]\n",
      " ...\n",
      " [-1.0583687  -0.83086014 -0.4427682  ... -1.0160557  -0.02469787\n",
      "   0.99688977]\n",
      " [-1.0772408  -0.32139003 -0.79673034 ... -1.3150353  -0.12155519\n",
      "   0.57841384]\n",
      " [-0.86319923 -0.5425662  -0.5506818  ... -1.1069874   0.26995388\n",
      "   0.43403685]] loaded from the file enwiki_20180420_100d.pkl is not byte aligned. This may cause segmentation faults if this memmapped array is used in some libraries like BLAS or PyTorch. To get rid of this warning, regenerate your pickle file with joblib >= 1.2.0. See https://github.com/joblib/joblib/issues/563 for more details\n",
      "  warnings.warn(message)\n",
      "C:\\Users\\RConti\\.conda\\envs\\env_master\\Lib\\site-packages\\joblib\\numpy_pickle.py:230: UserWarning: The memmapped array [[ 9.31275263e-02 -8.88679624e-02 -1.91727564e-01 ... -1.34685934e-01\n",
      "  -1.15518689e-01  1.95024401e-01]\n",
      " [ 1.06650688e-01 -1.39282122e-01  1.28345221e-01 ... -2.58541018e-01\n",
      "   1.06945192e-03  4.36867744e-01]\n",
      " [ 2.41883561e-01 -3.22016366e-02 -1.21213362e-01 ...  2.10319590e-02\n",
      "  -3.88098627e-01 -7.62230903e-02]\n",
      " ...\n",
      " [-6.40646815e-01  2.35682666e-01  2.19560400e-01 ...  1.07549876e-01\n",
      "  -1.31226122e+00  1.51679659e+00]\n",
      " [-2.97203183e-01  2.59723127e-01  2.77167350e-01 ... -1.70121565e-01\n",
      "  -1.67249894e+00  1.12165082e+00]\n",
      " [-6.73093140e-01  2.12552413e-01  4.16892409e-01 ...  2.12317891e-02\n",
      "  -1.37761509e+00  6.29351258e-01]] loaded from the file enwiki_20180420_100d.pkl is not byte aligned. This may cause segmentation faults if this memmapped array is used in some libraries like BLAS or PyTorch. To get rid of this warning, regenerate your pickle file with joblib >= 1.2.0. See https://github.com/joblib/joblib/issues/563 for more details\n",
      "  warnings.warn(message)\n",
      "C:\\Users\\RConti\\.conda\\envs\\env_master\\Lib\\site-packages\\joblib\\numpy_pickle.py:230: UserWarning: The memmapped array [[769702 380730]\n",
      " [649936 302186]\n",
      " [869658 382059]\n",
      " ...\n",
      " [     0      0]\n",
      " [     0      0]\n",
      " [     0      0]] loaded from the file enwiki_20180420_100d.pkl is not byte aligned. This may cause segmentation faults if this memmapped array is used in some libraries like BLAS or PyTorch. To get rid of this warning, regenerate your pickle file with joblib >= 1.2.0. See https://github.com/joblib/joblib/issues/563 for more details\n",
      "  warnings.warn(message)\n",
      "C:\\Users\\RConti\\.conda\\envs\\env_master\\Lib\\site-packages\\joblib\\numpy_pickle.py:230: UserWarning: The memmapped array [[262 221]\n",
      " [132 108]\n",
      " [124 104]\n",
      " ...\n",
      " [  0   0]\n",
      " [  0   0]\n",
      " [  0   0]] loaded from the file enwiki_20180420_100d.pkl is not byte aligned. This may cause segmentation faults if this memmapped array is used in some libraries like BLAS or PyTorch. To get rid of this warning, regenerate your pickle file with joblib >= 1.2.0. See https://github.com/joblib/joblib/issues/563 for more details\n",
      "  warnings.warn(message)\n"
     ]
    }
   ],
   "source": [
    "import json\n",
    "from wikipedia2vec import Wikipedia2Vec\n",
    "from sklearn.metrics.pairwise import cosine_similarity\n",
    "import numpy as np\n",
    "\n",
    "MODEL_FILE = \"enwiki_20180420_100d.pkl\"\n",
    "\n",
    "wiki2vec = Wikipedia2Vec.load(MODEL_FILE)"
   ]
  },
  {
   "cell_type": "code",
   "execution_count": 20,
   "id": "2825f718-807e-4aa7-98ed-8030e13e44c6",
   "metadata": {},
   "outputs": [],
   "source": [
    "def get_entity_vector(e):\n",
    "    try:\n",
    "        emb = wiki2vec.get_entity_vector(e)\n",
    "    except:\n",
    "        raise Exception(\"Entity vector {} not found\\n\".format(e))\n",
    "    return emb\n",
    "\n",
    "def similarity(v1, v2):\n",
    "    x = np.array(v1).reshape(1,-1)\n",
    "    y = np.array(v2).reshape(1,-1)\n",
    "    return cosine_similarity(x, y)[0][0]"
   ]
  },
  {
   "cell_type": "code",
   "execution_count": 46,
   "id": "633e131b-bd56-422d-8510-11163d8131b7",
   "metadata": {},
   "outputs": [
    {
     "data": {
      "text/plain": [
       "('European Parliament',\n",
       " memmap([ 0.32559958, -0.49910313,  1.0043432 ,  0.01733444, -0.12877917,\n",
       "         -0.3833318 ,  0.9526427 ,  0.21671446, -0.699357  , -0.46911693,\n",
       "         -0.4539235 ,  0.25402513,  0.5264579 , -1.3997765 ,  0.38581952,\n",
       "          0.13243324, -0.25360656,  0.6015653 , -0.10148839, -0.24216361,\n",
       "         -0.9591717 ,  2.1751957 , -0.7027072 , -0.1774086 , -0.53077173,\n",
       "          0.2637302 ,  0.11219589, -1.2789522 ,  0.50882083,  0.61073834,\n",
       "         -0.72055393, -0.28003865,  1.2260796 ,  1.1812795 , -0.00586406,\n",
       "         -0.8349619 ,  0.5994383 ,  0.6358481 ,  0.7769877 , -0.16194658,\n",
       "         -0.05701641, -0.9635012 ,  1.1561038 ,  0.01084604,  0.04601151,\n",
       "         -1.3398298 , -0.11817376,  0.16577002,  0.58518296, -0.1766347 ,\n",
       "         -0.1857903 ,  0.07901498, -0.34180877, -0.7495053 ,  0.549753  ,\n",
       "          1.0031368 , -0.3288226 ,  0.06679147, -0.14424427,  0.03914331,\n",
       "          0.5324565 ,  0.5775707 , -1.750892  ,  1.2654934 ,  1.9484026 ,\n",
       "         -0.76800513, -1.1381495 ,  0.22541507, -0.7373937 , -0.94724387,\n",
       "          0.9061482 ,  0.01052567, -0.680056  , -0.28311205, -0.68499684,\n",
       "         -1.2408756 ,  1.6566662 ,  0.48430663, -0.8458409 , -0.586371  ,\n",
       "          0.00730632, -0.22131112,  0.16606206,  0.6140896 ,  0.14037429,\n",
       "          0.23185   , -0.01818198, -1.1365256 ,  0.16975643, -0.91114277,\n",
       "         -1.0785741 ,  0.7535476 ,  0.3519068 , -0.26419583,  0.3982116 ,\n",
       "         -0.42428473,  0.79677457,  0.991921  ,  0.28775612,  0.31113064],\n",
       "        dtype=float32))"
      ]
     },
     "execution_count": 46,
     "metadata": {},
     "output_type": "execute_result"
    }
   ],
   "source": [
    "v1 = (\"European Parliament\", get_entity_vector(\"European Parliament\"))\n",
    "v2 = (\"Green Deal\", get_entity_vector(\"Green Deal\"))\n",
    "v3 = (\"Agriculture\", get_entity_vector(\"Agriculture\"))\n",
    "v1"
   ]
  },
  {
   "cell_type": "code",
   "execution_count": 47,
   "id": "368a7f48-6a2d-4458-8d28-1301f5223799",
   "metadata": {},
   "outputs": [
    {
     "name": "stdout",
     "output_type": "stream",
     "text": [
      "======================================================================\n",
      "Cosine similarity between European Parliament and Green Deal is 0.39\n",
      "Cosine similarity between European Parliament and Agriculture is 0.26\n",
      "Cosine similarity between Green Deal and Agriculture is 0.24\n"
     ]
    }
   ],
   "source": [
    "print(\"======================================================================\")\n",
    "from itertools import combinations\n",
    "for x, y in combinations([v1, v2, v3], 2):\n",
    "    print(\"Cosine similarity between {} and {} is {:.2f}\".format(x[0], y[0], similarity(x[1], y[1])))"
   ]
  }
 ],
 "metadata": {
  "kernelspec": {
   "display_name": "Python [conda env:.conda-env_master] *",
   "language": "python",
   "name": "conda-env-.conda-env_master-py"
  },
  "language_info": {
   "codemirror_mode": {
    "name": "ipython",
    "version": 3
   },
   "file_extension": ".py",
   "mimetype": "text/x-python",
   "name": "python",
   "nbconvert_exporter": "python",
   "pygments_lexer": "ipython3",
   "version": "3.11.6"
  }
 },
 "nbformat": 4,
 "nbformat_minor": 5
}
