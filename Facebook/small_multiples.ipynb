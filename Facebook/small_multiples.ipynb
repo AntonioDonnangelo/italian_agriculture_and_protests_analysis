{
 "cells": [
  {
   "cell_type": "code",
   "execution_count": 1,
   "metadata": {},
   "outputs": [
    {
     "data": {
      "text/plain": [
       "DataTransformerRegistry.enable('default')"
      ]
     },
     "execution_count": 1,
     "metadata": {},
     "output_type": "execute_result"
    }
   ],
   "source": [
    "import altair as alt\n",
    "import pandas as pd\n",
    "import numpy as np\n",
    "alt.data_transformers.enable('default', max_rows=None)  #renders if the df has more than 5000 rows"
   ]
  },
  {
   "cell_type": "markdown",
   "metadata": {},
   "source": [
    "def my_theme():\n",
    "    return {\n",
    "        \"config\": {\n",
    "            'background': 'transparent',\n",
    "            \"title\": {\n",
    "                #\"font\": \"Lato\",  # Sostituisci con il nome del font desiderato\n",
    "                \"fontSize\": 20,\n",
    "                \"anchor\": \"start\",  # posizione del titolo\n",
    "                \"color\": \"black\"\n",
    "            },\n",
    "            \"axis\": {\n",
    "                #\"labelFont\": \"Lato\",  # Sostituisci con il nome del font desiderato\n",
    "                #\"titleFont\": \"Lato\",  # Sostituisci con il nome del font desiderato\n",
    "                'labelFontSize': 16,  # Font size for axis labels\n",
    "                'titleFontSize': 14   # Font size for axis titles\n",
    "            }\n",
    "        }\n",
    "    }\n",
    "\n",
    "# Registra e imposta il tema\n",
    "alt.themes.register('my_theme', my_theme)\n",
    "alt.themes.enable('my_theme')"
   ]
  },
  {
   "cell_type": "code",
   "execution_count": 2,
   "metadata": {},
   "outputs": [
    {
     "data": {
      "text/plain": [
       "ThemeRegistry.enable('dark_theme_custom')"
      ]
     },
     "execution_count": 2,
     "metadata": {},
     "output_type": "execute_result"
    }
   ],
   "source": [
    "dark_theme_custom = {\n",
    "    'config': {\n",
    "        'background': '#121212',  # Colore di sfondo del grafico\n",
    "        'title': {\n",
    "            'color': '#E0E0E0',  # Colore del titolo\n",
    "            'fontSize': 20\n",
    "        },\n",
    "        'axis': {\n",
    "            'domainColor': '#B0B0B0',\n",
    "            'gridColor': '#333333',\n",
    "            'tickColor': '#B0B0B0',\n",
    "            'titleColor': '#E0E0E0',\n",
    "            'labelColor': '#E0E0E0',\n",
    "            'labelFontSize': 12,  # Font size for axis labels\n",
    "            'titleFontSize': 14   # Font size for axis titles\n",
    "        },\n",
    "        'legend': {\n",
    "            'labelColor': '#E0E0E0',\n",
    "            'titleColor': '#E0E0E0'\n",
    "        },\n",
    "        'mark': {\n",
    "            'color': '#1f77b4'  # Colore del segno\n",
    "        }\n",
    "    }\n",
    "}\n",
    "\n",
    "# Registra e applica il tema personalizzato\n",
    "alt.themes.register('dark_theme_custom', lambda: dark_theme_custom)\n",
    "alt.themes.enable('dark_theme_custom')"
   ]
  },
  {
   "cell_type": "code",
   "execution_count": 3,
   "metadata": {},
   "outputs": [],
   "source": [
    "clusters_entities = [[\"Agricoltura\", \"Agricoltura\", 7060], [\"Agricoltura\", \"Allevamento\", 435], [\"Agricoltura\", \"Industria\", 217], \n",
    " [\"Agricoltura\", \"Pesca (attività)\", 160], [\"Agricoltura\", \"Artigianato\", 44],\n",
    " [\"Europa\", \"Italia\", 7971], [\"Europa\", \"Germania\", 1290], [\"Europa\", \"Francia\", 1142], \n",
    " [\"Europa\", \"Spagna\", 242], [\"Europa\", \"Ucraina\", 181],\n",
    " [\"Religione\", \"Dio\", 4166], [\"Religione\", \"Verità\", 455], [\"Religione\", \"Libertà\", 412],\n",
    " [\"Religione\", \"Giustizia\", 264], [\"Religione\", \"Coraggio\", 212],\n",
    " [\"Società\", \"Politica\", 1826], [\"Società\", \"Lavoro\", 1074], [\"Società\", \"Governo\", 916], [\"Società\", \"Famiglia\", 493], \n",
    " [\"Società\", \"Tradizione\", 482], \n",
    " [\"Suolo\", \"Alimento\", 823], [\"Suolo\", \"Letame\", 756], [\"Suolo\", \"Frutta\", 696], [\"Suolo\", \"Grano\", 692], \n",
    " [\"Suolo\", \"Trattore agricolo\", 555],\n",
    " [\"Gruppo di pressione\", \"Unione europea\", 1719], [\"Gruppo di pressione\", \"Sindacato\", 1339], [\"Gruppo di pressione\", \"Coldiretti\", 761],\n",
    " [\"Gruppo di pressione\", \"Multinazionale\", 583], [\"Gruppo di pressione\", \"Corruzione\", 378],\n",
    " [\"Roma\", \"Bruxelles\", 1026], [\"Roma\", \"Provincia di Siena\", 437], [\"Roma\", \"Sicilia\", 391], [\"Roma\", \"Sanremo\", 238], \n",
    " [\"Roma\", \"Sardegna\", 222]\n",
    "]\n",
    "\n",
    "df = pd.DataFrame(clusters_entities, columns=['group', 'name', 'value'])"
   ]
  },
  {
   "cell_type": "code",
   "execution_count": 4,
   "metadata": {},
   "outputs": [
    {
     "data": {
      "text/plain": [
       "['Agricoltura',\n",
       " 'Europa',\n",
       " 'Gruppo di pressione',\n",
       " 'Religione',\n",
       " 'Roma',\n",
       " 'Società',\n",
       " 'Suolo']"
      ]
     },
     "execution_count": 4,
     "metadata": {},
     "output_type": "execute_result"
    }
   ],
   "source": [
    "dropdown_options1 = sorted(df['group'].unique().tolist())\n",
    "dropdown_options1"
   ]
  },
  {
   "cell_type": "code",
   "execution_count": 5,
   "metadata": {},
   "outputs": [
    {
     "name": "stderr",
     "output_type": "stream",
     "text": [
      "c:\\Users\\giang\\anaconda3\\envs\\env_master\\Lib\\site-packages\\altair\\utils\\deprecation.py:65: AltairDeprecationWarning: 'add_selection' is deprecated. Use 'add_params' instead.\n",
      "  warnings.warn(message, AltairDeprecationWarning, stacklevel=1)\n"
     ]
    },
    {
     "data": {
      "text/html": [
       "\n",
       "<style>\n",
       "  #altair-viz-47c909a4f5fc4af29ae79318eaad0cb3.vega-embed {\n",
       "    width: 100%;\n",
       "    display: flex;\n",
       "  }\n",
       "\n",
       "  #altair-viz-47c909a4f5fc4af29ae79318eaad0cb3.vega-embed details,\n",
       "  #altair-viz-47c909a4f5fc4af29ae79318eaad0cb3.vega-embed details summary {\n",
       "    position: relative;\n",
       "  }\n",
       "</style>\n",
       "<div id=\"altair-viz-47c909a4f5fc4af29ae79318eaad0cb3\"></div>\n",
       "<script type=\"text/javascript\">\n",
       "  var VEGA_DEBUG = (typeof VEGA_DEBUG == \"undefined\") ? {} : VEGA_DEBUG;\n",
       "  (function(spec, embedOpt){\n",
       "    let outputDiv = document.currentScript.previousElementSibling;\n",
       "    if (outputDiv.id !== \"altair-viz-47c909a4f5fc4af29ae79318eaad0cb3\") {\n",
       "      outputDiv = document.getElementById(\"altair-viz-47c909a4f5fc4af29ae79318eaad0cb3\");\n",
       "    }\n",
       "    const paths = {\n",
       "      \"vega\": \"https://cdn.jsdelivr.net/npm/vega@5?noext\",\n",
       "      \"vega-lib\": \"https://cdn.jsdelivr.net/npm/vega-lib?noext\",\n",
       "      \"vega-lite\": \"https://cdn.jsdelivr.net/npm/vega-lite@5.17.0?noext\",\n",
       "      \"vega-embed\": \"https://cdn.jsdelivr.net/npm/vega-embed@6?noext\",\n",
       "    };\n",
       "\n",
       "    function maybeLoadScript(lib, version) {\n",
       "      var key = `${lib.replace(\"-\", \"\")}_version`;\n",
       "      return (VEGA_DEBUG[key] == version) ?\n",
       "        Promise.resolve(paths[lib]) :\n",
       "        new Promise(function(resolve, reject) {\n",
       "          var s = document.createElement('script');\n",
       "          document.getElementsByTagName(\"head\")[0].appendChild(s);\n",
       "          s.async = true;\n",
       "          s.onload = () => {\n",
       "            VEGA_DEBUG[key] = version;\n",
       "            return resolve(paths[lib]);\n",
       "          };\n",
       "          s.onerror = () => reject(`Error loading script: ${paths[lib]}`);\n",
       "          s.src = paths[lib];\n",
       "        });\n",
       "    }\n",
       "\n",
       "    function showError(err) {\n",
       "      outputDiv.innerHTML = `<div class=\"error\" style=\"color:red;\">${err}</div>`;\n",
       "      throw err;\n",
       "    }\n",
       "\n",
       "    function displayChart(vegaEmbed) {\n",
       "      vegaEmbed(outputDiv, spec, embedOpt)\n",
       "        .catch(err => showError(`Javascript Error: ${err.message}<br>This usually means there's a typo in your chart specification. See the javascript console for the full traceback.`));\n",
       "    }\n",
       "\n",
       "    if(typeof define === \"function\" && define.amd) {\n",
       "      requirejs.config({paths});\n",
       "      require([\"vega-embed\"], displayChart, err => showError(`Error loading script: ${err.message}`));\n",
       "    } else {\n",
       "      maybeLoadScript(\"vega\", \"5\")\n",
       "        .then(() => maybeLoadScript(\"vega-lite\", \"5.17.0\"))\n",
       "        .then(() => maybeLoadScript(\"vega-embed\", \"6\"))\n",
       "        .catch(showError)\n",
       "        .then(() => displayChart(vegaEmbed));\n",
       "    }\n",
       "  })({\"config\": {\"background\": \"#121212\", \"title\": {\"color\": \"#E0E0E0\", \"fontSize\": 20}, \"axis\": {\"domainColor\": \"#B0B0B0\", \"gridColor\": \"#333333\", \"tickColor\": \"#B0B0B0\", \"titleColor\": \"#E0E0E0\", \"labelColor\": \"#E0E0E0\", \"labelFontSize\": 12, \"titleFontSize\": 14}, \"legend\": {\"labelColor\": \"#E0E0E0\", \"titleColor\": \"#E0E0E0\"}, \"mark\": {\"color\": \"#1f77b4\"}}, \"vconcat\": [{\"mark\": {\"type\": \"text\", \"align\": \"center\", \"color\": \"#E0E0E0\", \"dy\": -15, \"fontSize\": 20}, \"encoding\": {\"text\": {\"field\": \"group\", \"type\": \"nominal\"}}, \"height\": 30, \"transform\": [{\"filter\": {\"param\": \"SelectGroup\"}}], \"width\": 600}, {\"layer\": [{\"mark\": {\"type\": \"bar\", \"color\": \"#18E169\"}, \"encoding\": {\"tooltip\": [{\"field\": \"value\", \"type\": \"quantitative\"}], \"x\": {\"field\": \"value\", \"title\": \"frequenza\", \"type\": \"quantitative\"}, \"y\": {\"field\": \"name\", \"sort\": \"-x\", \"title\": \"entit\\u00e0\", \"type\": \"nominal\"}}, \"name\": \"view_1\", \"transform\": [{\"filter\": {\"param\": \"SelectGroup\"}}]}], \"height\": 600, \"width\": 800}], \"data\": {\"name\": \"data-d77a7879f30713ad73f3323785f17260\"}, \"params\": [{\"name\": \"SelectGroup\", \"select\": {\"type\": \"point\", \"fields\": [\"group\"]}, \"bind\": {\"input\": \"select\", \"options\": [\"Agricoltura\", \"Europa\", \"Gruppo di pressione\", \"Religione\", \"Roma\", \"Societ\\u00e0\", \"Suolo\"], \"name\": \" \"}, \"value\": \"Gruppo di pressione\", \"views\": [\"view_1\"]}], \"$schema\": \"https://vega.github.io/schema/vega-lite/v5.17.0.json\", \"datasets\": {\"data-d77a7879f30713ad73f3323785f17260\": [{\"group\": \"Agricoltura\", \"name\": \"Agricoltura\", \"value\": 7060}, {\"group\": \"Agricoltura\", \"name\": \"Allevamento\", \"value\": 435}, {\"group\": \"Agricoltura\", \"name\": \"Industria\", \"value\": 217}, {\"group\": \"Agricoltura\", \"name\": \"Pesca (attivit\\u00e0)\", \"value\": 160}, {\"group\": \"Agricoltura\", \"name\": \"Artigianato\", \"value\": 44}, {\"group\": \"Europa\", \"name\": \"Italia\", \"value\": 7971}, {\"group\": \"Europa\", \"name\": \"Germania\", \"value\": 1290}, {\"group\": \"Europa\", \"name\": \"Francia\", \"value\": 1142}, {\"group\": \"Europa\", \"name\": \"Spagna\", \"value\": 242}, {\"group\": \"Europa\", \"name\": \"Ucraina\", \"value\": 181}, {\"group\": \"Religione\", \"name\": \"Dio\", \"value\": 4166}, {\"group\": \"Religione\", \"name\": \"Verit\\u00e0\", \"value\": 455}, {\"group\": \"Religione\", \"name\": \"Libert\\u00e0\", \"value\": 412}, {\"group\": \"Religione\", \"name\": \"Giustizia\", \"value\": 264}, {\"group\": \"Religione\", \"name\": \"Coraggio\", \"value\": 212}, {\"group\": \"Societ\\u00e0\", \"name\": \"Politica\", \"value\": 1826}, {\"group\": \"Societ\\u00e0\", \"name\": \"Lavoro\", \"value\": 1074}, {\"group\": \"Societ\\u00e0\", \"name\": \"Governo\", \"value\": 916}, {\"group\": \"Societ\\u00e0\", \"name\": \"Famiglia\", \"value\": 493}, {\"group\": \"Societ\\u00e0\", \"name\": \"Tradizione\", \"value\": 482}, {\"group\": \"Suolo\", \"name\": \"Alimento\", \"value\": 823}, {\"group\": \"Suolo\", \"name\": \"Letame\", \"value\": 756}, {\"group\": \"Suolo\", \"name\": \"Frutta\", \"value\": 696}, {\"group\": \"Suolo\", \"name\": \"Grano\", \"value\": 692}, {\"group\": \"Suolo\", \"name\": \"Trattore agricolo\", \"value\": 555}, {\"group\": \"Gruppo di pressione\", \"name\": \"Unione europea\", \"value\": 1719}, {\"group\": \"Gruppo di pressione\", \"name\": \"Sindacato\", \"value\": 1339}, {\"group\": \"Gruppo di pressione\", \"name\": \"Coldiretti\", \"value\": 761}, {\"group\": \"Gruppo di pressione\", \"name\": \"Multinazionale\", \"value\": 583}, {\"group\": \"Gruppo di pressione\", \"name\": \"Corruzione\", \"value\": 378}, {\"group\": \"Roma\", \"name\": \"Bruxelles\", \"value\": 1026}, {\"group\": \"Roma\", \"name\": \"Provincia di Siena\", \"value\": 437}, {\"group\": \"Roma\", \"name\": \"Sicilia\", \"value\": 391}, {\"group\": \"Roma\", \"name\": \"Sanremo\", \"value\": 238}, {\"group\": \"Roma\", \"name\": \"Sardegna\", \"value\": 222}]}}, {\"mode\": \"vega-lite\"});\n",
       "</script>"
      ],
      "text/plain": [
       "alt.VConcatChart(...)"
      ]
     },
     "execution_count": 5,
     "metadata": {},
     "output_type": "execute_result"
    }
   ],
   "source": [
    "# Menù a tendina per \"Tipo dato\"\n",
    "dropdown_options1 = sorted(df['group'].unique().tolist())\n",
    "\n",
    "# Selezione menù a tendina\n",
    "dropdown1 = alt.binding_select(options=dropdown_options1, name = \" \")\n",
    "selection1 = alt.selection_point(fields=['group'], bind=dropdown1, name='SelectGroup', value = dropdown_options1[2])\n",
    "\n",
    "#min_max_values = summarized_df.groupby(['Tipo dato', 'Territorio'])['Value'].agg(['min', 'max']).reset_index()\n",
    "\n",
    "# istogramma\n",
    "chart = alt.Chart(df).transform_filter(\n",
    "    selection1 #& selection2\n",
    ").mark_bar(color=\"#18E169\").encode(\n",
    "    x=alt.X(field='value', type='quantitative', title='frequenza'),\n",
    "    y=alt.Y(field='name', type='nominal', sort='-x', title='entità'),\n",
    "    #size=alt.Size(field='Valore', type='quantitative', bin=alt.BinParams(maxbins=5)),\n",
    "    #color=alt.Color('value', scale=alt.Scale(scheme=[\"#c6f9db\", \"#18E169\"], interpolate=\"hsl\"), legend=None),\n",
    "    tooltip=['value']\n",
    ").properties(\n",
    "    width=800,\n",
    "    #width = 'container',\n",
    "    height=600\n",
    ")\n",
    "\n",
    "# Text chart per titolo dinamico\n",
    "text = alt.Chart(df).transform_filter(\n",
    "    selection1\n",
    ").mark_text(\n",
    "    align='center',\n",
    "    dy=-15,\n",
    "    fontSize=20,\n",
    "    color='#E0E0E0'\n",
    ").encode(\n",
    "    text='group:N'\n",
    ").properties(\n",
    "    width=600,\n",
    "    #width = 'container',\n",
    "    height=30 \n",
    ")\n",
    "\n",
    "# Combina text chart and main chart\n",
    "combined_chart = alt.vconcat(text, alt.layer(chart).add_selection(selection1))\n",
    "\n",
    "# Salva il grafico in un file JSON\n",
    "chart_json = combined_chart.to_json()\n",
    "with open(r'E:\\Gianluca\\Master Big Data Pisa\\Progetto_Finale\\Sito\\g6-2024-website\\assets\\charts\\chart_gian_dark_bg\\tendina_cluster_entita3.json', 'w') as f:\n",
    "    f.write(chart_json)\n",
    "\n",
    "# Visualizza il grafico combinato\n",
    "combined_chart"
   ]
  },
  {
   "cell_type": "code",
   "execution_count": 7,
   "metadata": {},
   "outputs": [],
   "source": [
    "# Salva il grafico in un file JSON\n",
    "chart_json = combined_chart.to_json()\n",
    "with open(r'E:\\Gianluca\\Master Big Data Pisa\\Progetto_Finale\\Sito\\g6-2024-website\\assets\\charts\\chart_gian_dark_bg\\tendina_cluster_entita.json', 'w') as f:\n",
    "    f.write(chart_json)"
   ]
  },
  {
   "cell_type": "markdown",
   "metadata": {},
   "source": [
    "alt.Chart(df).mark_bar().encode(\n",
    "    x='value:Q',\n",
    "    y='name:N',\n",
    "    color='group:N'\n",
    ").properties(\n",
    "    width=180,\n",
    "    height=180\n",
    ").facet(\n",
    "    column='group:N'\n",
    ")"
   ]
  },
  {
   "cell_type": "markdown",
   "metadata": {},
   "source": [
    "Report Tecnico WordCloud\n",
    "- utilizzando tagme abbiamo estratto le entità dai commenti.\n",
    "- abbiamo calcolato le frequenze.\n",
    "- utilizzando il software RAWGraphs abbiamo creato la wordcloud sfruttando la tipologia di chart circle packing."
   ]
  }
 ],
 "metadata": {
  "kernelspec": {
   "display_name": "env_master",
   "language": "python",
   "name": "python3"
  },
  "language_info": {
   "codemirror_mode": {
    "name": "ipython",
    "version": 3
   },
   "file_extension": ".py",
   "mimetype": "text/x-python",
   "name": "python",
   "nbconvert_exporter": "python",
   "pygments_lexer": "ipython3",
   "version": "3.11.6"
  }
 },
 "nbformat": 4,
 "nbformat_minor": 2
}
